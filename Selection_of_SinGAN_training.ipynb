{
 "cells": [
  {
   "cell_type": "markdown",
   "id": "7d200ce3-afd4-48c0-a029-abd98b7ad73c",
   "metadata": {},
   "source": [
    "# Selection of dark skin samples\n",
    "\n",
    "This notebook aims to explore which samples are suitable for the SinGAN trainnig. The requirements are :\n",
    "* Melanoma\n",
    "* covering the distribution of dark samples well."
   ]
  },
  {
   "cell_type": "code",
   "execution_count": null,
   "id": "4a775566-ec25-4b7b-96b6-207c7477bedd",
   "metadata": {},
   "outputs": [],
   "source": [
    "import pandas as pd\n",
    "import tensorflow as tf"
   ]
  },
  {
   "cell_type": "code",
   "execution_count": null,
   "id": "a9e3e615-9460-4a3e-a62f-e9c4890a1438",
   "metadata": {},
   "outputs": [],
   "source": [
    "# access the dataframe\n",
    "path = \"./data/ISIC2018/ISIC2018_Task3_Training_Input/metadata.csv\"\n",
    "df = pd.read_csv(path)\n",
    "df.head()"
   ]
  },
  {
   "cell_type": "code",
   "execution_count": null,
   "id": "25f2a2c2-cc06-4a1f-922f-47160b86afd2",
   "metadata": {},
   "outputs": [],
   "source": [
    "# select the subset melanoma\n",
    "df_mel = df[df[\"lesion\"]==\"MEL\"]\n",
    "print(len(df_mel))\n",
    "df_mel.head()"
   ]
  },
  {
   "cell_type": "code",
   "execution_count": null,
   "id": "634033a4-cac2-4f60-aecf-e97c9ff75095",
   "metadata": {},
   "outputs": [],
   "source": [
    "# get the three rows which satisfy the quartile criteria\n",
    "df_mel_dark = df_mel[df_mel[\"estimated_ita\"]<28]\n",
    "print(len(df_mel_dark))\n",
    "df_mel_dark.head()"
   ]
  },
  {
   "cell_type": "code",
   "execution_count": null,
   "id": "cffed24c-4167-4c97-86ce-86d1254b7d2b",
   "metadata": {},
   "outputs": [],
   "source": [
    "df_mel[df_mel[\"estimated_ita\"]<25].head()"
   ]
  },
  {
   "cell_type": "code",
   "execution_count": 69,
   "id": "e664625e-7ed9-480c-978a-855438f8033d",
   "metadata": {},
   "outputs": [
    {
     "name": "stdout",
     "output_type": "stream",
     "text": [
      "[25.61894882464739, 30.93942673888519, 35.001072169903715]\n"
     ]
    }
   ],
   "source": [
    "selected_itas = []\n",
    "mel_itas = df_mel[\"estimated_ita\"]\n",
    "for ita in [25,30,35]:\n",
    "    selected_itas.append(mel_itas[df_mel[\"estimated_ita\"]>ita].min())\n",
    "print(selected_itas)"
   ]
  },
  {
   "cell_type": "code",
   "execution_count": 75,
   "id": "c815e0ce-427d-4ffa-b848-63f702539bfb",
   "metadata": {},
   "outputs": [
    {
     "name": "stdout",
     "output_type": "stream",
     "text": [
      "                 image lesion  estimated_ita\n",
      "6845  ISIC_0025927.jpg    MEL      25.618949\n",
      "                 image lesion  estimated_ita\n",
      "7362  ISIC_0032149.jpg    MEL      30.939427\n",
      "                 image lesion  estimated_ita\n",
      "6767  ISIC_0024962.jpg    MEL      35.001072\n"
     ]
    }
   ],
   "source": [
    "for s_ita in selected_itas:\n",
    "    print(df_mel[df_mel[\"estimated_ita\"]==s_ita])"
   ]
  },
  {
   "cell_type": "code",
   "execution_count": null,
   "id": "88843c2f-3a05-42a3-9dcc-a4dbcba99846",
   "metadata": {},
   "outputs": [],
   "source": []
  }
 ],
 "metadata": {
  "kernelspec": {
   "display_name": "Python 3 (ipykernel)",
   "language": "python",
   "name": "python3"
  },
  "language_info": {
   "codemirror_mode": {
    "name": "ipython",
    "version": 3
   },
   "file_extension": ".py",
   "mimetype": "text/x-python",
   "name": "python",
   "nbconvert_exporter": "python",
   "pygments_lexer": "ipython3",
   "version": "3.9.16"
  }
 },
 "nbformat": 4,
 "nbformat_minor": 5
}
